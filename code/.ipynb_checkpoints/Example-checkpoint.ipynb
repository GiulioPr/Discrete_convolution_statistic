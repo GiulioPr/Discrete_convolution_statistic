{
 "cells": [
  {
   "cell_type": "code",
   "execution_count": 72,
   "metadata": {},
   "outputs": [],
   "source": [
    "import numpy as np\n",
    "from functools import reduce\n",
    "import discrete_convolution_statistics as dcs"
   ]
  },
  {
   "cell_type": "code",
   "execution_count": 73,
   "metadata": {},
   "outputs": [],
   "source": [
    "#Set seed for the random number generator\n",
    "np.random.seed(2)\n",
    "\n",
    "#Define input parameters\n",
    "#Sample sizes\n",
    "sample_sizes = np.array([45, 42, 47, 41, 48])\n",
    "#Probability mass vectors relative to each random variable\n",
    "pmv_x = np.array([[0.4, 0.6], [0.2, 0.8], [0.5, 0.5]])\n",
    "pmv_y = np.array([np.convolve([0.4, 0.6], [0.2, 0.8]), np.array([0.01, 0.99])])\n",
    "pmv_z = reduce(np.convolve, pmv_x)\n",
    "\n",
    "#Draw multinomial frequencies\n",
    "freq_x1 = np.random.multinomial(sample_sizes[0], pmv_x[0])\n",
    "freq_x2 = np.random.multinomial(sample_sizes[1], pmv_x[1])\n",
    "freq_x3 = np.random.multinomial(sample_sizes[2], pmv_x[2])\n",
    "freq_y1 = np.random.multinomial(sample_sizes[3], pmv_y[0])\n",
    "freq_y2 = np.random.multinomial(sample_sizes[4], pmv_y[1])\n",
    "ary_obsx = np.array([freq_x1, freq_x2, freq_x3])\n",
    "ary_obsy = np.array([freq_y1, freq_y2])"
   ]
  },
  {
   "cell_type": "code",
   "execution_count": 74,
   "metadata": {},
   "outputs": [
    {
     "name": "stdout",
     "output_type": "stream",
     "text": [
      "(5.9492743131928005, 0.11410439028029287, 3)\n",
      "(3.3662292358357053, 0.1857943953689219)\n",
      "(7.491239619806935, 0.05778397135995408, 3)\n",
      "(7.220901032762949, 0.027039662311064937)\n"
     ]
    }
   ],
   "source": [
    "#Goodness-of-fit test H0: X1 + X2 + X3 ~ z (H0 is True)\n",
    "#Automatic ranking (actual rank is 3)\n",
    "print(dcs.conv_test(ary_obsx=ary_obsx, gof_z=pmv_z))\n",
    "#Forcing rank = 2\n",
    "print(dcs.conv_test(ary_obsx=ary_obsx, gof_z=pmv_z, rk=2, bool_force_rank=True))\n",
    "\n",
    "#Equality in distribution test H0: X1 + X2 + X3 ~ Y1 + Y2 (H0 is False)\n",
    "#Automatic ranking\n",
    "print(dcs.conv_test(ary_obsx=ary_obsx, ary_obsy=ary_obsy))\n",
    "#Frocing rank = 2\n",
    "print(dcs.conv_test(ary_obsx=ary_obsx, ary_obsy=ary_obsy, rk=2, bool_force_rank=True))"
   ]
  }
 ],
 "metadata": {
  "kernelspec": {
   "display_name": "Python 3",
   "language": "python",
   "name": "python3"
  },
  "language_info": {
   "codemirror_mode": {
    "name": "ipython",
    "version": 3
   },
   "file_extension": ".py",
   "mimetype": "text/x-python",
   "name": "python",
   "nbconvert_exporter": "python",
   "pygments_lexer": "ipython3",
   "version": "3.6.6"
  }
 },
 "nbformat": 4,
 "nbformat_minor": 2
}
